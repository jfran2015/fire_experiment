{
 "cells": [
  {
   "cell_type": "markdown",
   "id": "82a26c53",
   "metadata": {},
   "source": [
    "#Fire analysis script\n",
    "The goal of this script is to complete a regression where region of interest type etc. is regressed on _"
   ]
  },
  {
   "cell_type": "markdown",
   "id": "4928da49",
   "metadata": {},
   "source": [
    "Load in files and join them as 1 larger "
   ]
  },
  {
   "cell_type": "code",
   "execution_count": null,
   "id": "10bc95c6",
   "metadata": {},
   "outputs": [],
   "source": [
    "import numpy as np\n",
    "import os\n",
    "import pandas as pd\n",
    "\n",
    "contour_masks = os.listdir(\"contour_masks\")\n",
    "roi_index_filenames = [f for f in contour_masks if \"roi_index\" in f]\n",
    "roi_type_filenames = [f for f in contour_masks if \"roi_type\" in f]\n",
    "\n",
    "# Load the roi_index and roi_type files\n",
    "roi_index_list = []\n",
    "roi_type_list = []\n",
    "\n",
    "#loop through the roi_index and roi_type files and load them into lists\n",
    "for filename in roi_index_filenames:\n",
    "    roi_index = np.load(os.path.join(\"contour_masks\", filename))\n",
    "    roi_index = roi_index.astype(np.uint8)\n",
    "    roi_index_list.append((filename, roi_index))\n",
    "\n",
    "for filename in roi_type_filenames:\n",
    "    roi_type = np.load(os.path.join(\"contour_masks\", filename))\n",
    "    roi_type = roi_type.astype(np.uint8)\n",
    "    roi_type_list.append((filename, roi_type))\n",
    "\n",
    "# Convert lists to numpy arrays\n",
    "roi_index_combined = np.array(roi_index_list, dtype=object)\n",
    "roi_type_combined = np.array(roi_type_list, dtype=object)"
   ]
  }
 ],
 "metadata": {
  "kernelspec": {
   "display_name": ".venv",
   "language": "python",
   "name": "python3"
  },
  "language_info": {
   "codemirror_mode": {
    "name": "ipython",
    "version": 3
   },
   "file_extension": ".py",
   "mimetype": "text/x-python",
   "name": "python",
   "nbconvert_exporter": "python",
   "pygments_lexer": "ipython3",
   "version": "3.8.0"
  }
 },
 "nbformat": 4,
 "nbformat_minor": 5
}
